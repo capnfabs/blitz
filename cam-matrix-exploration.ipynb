{
 "cells": [
  {
   "cell_type": "code",
   "execution_count": 1,
   "metadata": {},
   "outputs": [],
   "source": [
    "import numpy as np"
   ]
  },
  {
   "cell_type": "code",
   "execution_count": 2,
   "metadata": {},
   "outputs": [],
   "source": [
    "def normie(a):\n",
    "    row_sums = a.sum(axis=1)\n",
    "    new_matrix = a / row_sums[:, np.newaxis]\n",
    "    return new_matrix"
   ]
  },
  {
   "cell_type": "code",
   "execution_count": 3,
   "metadata": {},
   "outputs": [],
   "source": [
    "# cam_xyz in dcraw\n",
    "cam_from_xyz = np.array([\n",
    "    [11434.0, -4948.0, -1210.0,],\n",
    "    [-3746.0, 12042.0,  1903.0,],\n",
    "    [-666.0,  1479.0,  5235.0,],\n",
    "])"
   ]
  },
  {
   "cell_type": "code",
   "execution_count": 4,
   "metadata": {},
   "outputs": [
    {
     "data": {
      "text/plain": [
       "array([[ 2.1671721 , -0.93783169, -0.22934041],\n",
       "       [-0.36729091,  1.18070399,  0.18658692],\n",
       "       [-0.11011905,  0.24454365,  0.8655754 ]])"
      ]
     },
     "execution_count": 4,
     "metadata": {},
     "output_type": "execute_result"
    }
   ],
   "source": [
    "cam_from_xyz = np.array([[c / 10000 for c in row] for row in cam_from_xyz])\n",
    "cam_from_xyz = normie(cam_from_xyz)\n",
    "cam_from_xyz"
   ]
  },
  {
   "cell_type": "code",
   "execution_count": 5,
   "metadata": {},
   "outputs": [
    {
     "data": {
      "text/plain": [
       "array([1., 1., 1.])"
      ]
     },
     "execution_count": 5,
     "metadata": {},
     "output_type": "execute_result"
    }
   ],
   "source": [
    "np.matmul(cam_from_xyz, [1, 1, 1])"
   ]
  },
  {
   "cell_type": "code",
   "execution_count": 6,
   "metadata": {},
   "outputs": [],
   "source": [
    "# xyz_rgb in dcraw\n",
    "xyz_from_rgb = np.array([\n",
    "    [0.412453, 0.357580, 0.180423],\n",
    "    [0.212671, 0.715160, 0.072169],\n",
    "    [0.019334, 0.119193, 0.950227],\n",
    "])"
   ]
  },
  {
   "cell_type": "code",
   "execution_count": 7,
   "metadata": {},
   "outputs": [
    {
     "data": {
      "text/plain": [
       "array([[0.68997296, 0.07690192, 0.10539987],\n",
       "       [0.10321873, 0.73529624, 0.19624243],\n",
       "       [0.02332345, 0.238682  , 0.82027357]])"
      ]
     },
     "execution_count": 7,
     "metadata": {},
     "output_type": "execute_result"
    }
   ],
   "source": [
    "# cam_rgb\n",
    "cam_from_rgb = np.matmul(cam_from_xyz, xyz_from_rgb)\n",
    "cam_from_rgb"
   ]
  },
  {
   "cell_type": "code",
   "execution_count": 8,
   "metadata": {},
   "outputs": [
    {
     "data": {
      "text/plain": [
       "array([[0.79100417, 0.08816249, 0.12083334],\n",
       "       [0.09975163, 0.71059771, 0.18965066],\n",
       "       [0.02155031, 0.22053647, 0.75791322]])"
      ]
     },
     "execution_count": 8,
     "metadata": {},
     "output_type": "execute_result"
    }
   ],
   "source": [
    "cam_from_rgb = normie(cam_from_rgb)\n",
    "cam_from_rgb"
   ]
  },
  {
   "cell_type": "code",
   "execution_count": 9,
   "metadata": {},
   "outputs": [
    {
     "data": {
      "text/plain": [
       "array([[ 1.28215368, -0.1036864 , -0.17846728],\n",
       "       [-0.18459025,  1.54068211, -0.35609186],\n",
       "       [ 0.01725537, -0.44535722,  1.42810185]])"
      ]
     },
     "execution_count": 9,
     "metadata": {},
     "output_type": "execute_result"
    }
   ],
   "source": [
    "cam_to_rgb = np.linalg.inv(cam_from_rgb)\n",
    "cam_to_rgb"
   ]
  },
  {
   "cell_type": "code",
   "execution_count": 10,
   "metadata": {},
   "outputs": [
    {
     "data": {
      "text/plain": [
       "array([[ 0.53416154,  0.41342894,  0.05240952],\n",
       "       [ 0.16269031,  1.01245195, -0.17514226],\n",
       "       [ 0.02199286, -0.23344274,  1.21144988]])"
      ]
     },
     "execution_count": 10,
     "metadata": {},
     "output_type": "execute_result"
    }
   ],
   "source": [
    "np.linalg.inv(cam_from_xyz)"
   ]
  },
  {
   "cell_type": "code",
   "execution_count": 13,
   "metadata": {},
   "outputs": [
    {
     "data": {
      "text/plain": [
       "array([[  0,   1,   2],\n",
       "       [ 27,  36,  45],\n",
       "       [108, 126, 144]])"
      ]
     },
     "execution_count": 13,
     "metadata": {},
     "output_type": "execute_result"
    }
   ],
   "source": [
    "merp = np.array([[0,1,2],[3,4,5],[6,7,8]])\n",
    "mat = [[1, 0, 0], [0, 9, 0], [0, 0, 18]]\n",
    "np.matmul(mat, merp)"
   ]
  },
  {
   "cell_type": "code",
   "execution_count": 16,
   "metadata": {},
   "outputs": [
    {
     "data": {
      "text/plain": [
       "([684.0, 302.0, 576.0],\n",
       " [2.172879, 0.947545, 1.527648],\n",
       " [314.7897328843438, 318.71837221451227, 377.0502105197009])"
      ]
     },
     "execution_count": 16,
     "metadata": {},
     "output_type": "execute_result"
    }
   ],
   "source": [
    "thing = [684.000000, 302.000000, 576.000000]\n",
    "thang = [2.172879, 0.947545, 1.527648]\n",
    "thung = [x / y for (x, y) in zip(thing, thang)]\n",
    "thing, thang, thung"
   ]
  },
  {
   "cell_type": "code",
   "execution_count": null,
   "metadata": {},
   "outputs": [],
   "source": []
  }
 ],
 "metadata": {
  "kernelspec": {
   "display_name": "Python 3",
   "language": "python",
   "name": "python3"
  },
  "language_info": {
   "codemirror_mode": {
    "name": "ipython",
    "version": 3
   },
   "file_extension": ".py",
   "mimetype": "text/x-python",
   "name": "python",
   "nbconvert_exporter": "python",
   "pygments_lexer": "ipython3",
   "version": "3.7.6"
  }
 },
 "nbformat": 4,
 "nbformat_minor": 4
}
